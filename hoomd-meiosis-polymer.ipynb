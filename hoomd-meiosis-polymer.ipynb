{
 "cells": [
  {
   "cell_type": "code",
   "id": "initial_id",
   "metadata": {
    "collapsed": true,
    "ExecuteTime": {
     "end_time": "2024-07-11T19:44:25.915588Z",
     "start_time": "2024-07-11T19:44:25.752970Z"
    }
   },
   "source": [
    "import random\n",
    "import hoomd\n",
    "import gsd.hoomd\n",
    "from hoomd.wall import Sphere as WallSphere\n",
    "from hoomd.md.manifold import Sphere as ManifoldSphere\n",
    "from hoomd.md.methods.rattle import NVE\n",
    "import os\n",
    "import shutil\n",
    "import numpy as np\n",
    "import plotly.graph_objects as go"
   ],
   "outputs": [],
   "execution_count": 1
  },
  {
   "metadata": {},
   "cell_type": "code",
   "outputs": [],
   "execution_count": null,
   "source": [
    "pi = np.pi\n",
    "seed = 42\n",
    "notice_level = 10\n",
    "np.random.seed(seed)\n",
    "random.seed(seed)"
   ],
   "id": "1192619b46906a28"
  },
  {
   "metadata": {},
   "cell_type": "code",
   "outputs": [],
   "execution_count": null,
   "source": [
    "def random_point_on_sphere(radius):\n",
    "    theta = np.random.uniform(0, 2 * np.pi)\n",
    "    phi = np.arccos(1 - 2 * np.random.uniform())\n",
    "    x = radius * np.sin(phi) * np.cos(theta)\n",
    "    y = radius * np.sin(phi) * np.sin(theta)\n",
    "    z = radius * np.cos(phi)\n",
    "    return np.array([x, y, z])\n",
    "\n",
    "\n",
    "def interpolate_points(start, end, num_points):\n",
    "    vect = end - start\n",
    "    unit_vect = vect / np.linalg.norm(vect)\n",
    "    distances = np.linspace(0, np.linalg.norm(vect), num_points)\n",
    "    return np.array([start + distance * unit_vect for distance in distances])\n",
    "\n",
    "\n",
    "def place_polymer_in_sphere(radius, num_particles):\n",
    "    telo1_pos = random_point_on_sphere(radius)\n",
    "    telo2_pos = random_point_on_sphere(radius)\n",
    "    while np.linalg.norm(telo1_pos - telo2_pos) < radius:\n",
    "        telo2_pos = random_point_on_sphere(radius)\n",
    "\n",
    "    polymer_positions = interpolate_points(telo1_pos, telo2_pos, num_particles - 2)\n",
    "    polymer_positions = np.vstack([telo1_pos, polymer_positions, telo2_pos])\n",
    "    return polymer_positions\n",
    "\n",
    "\n",
    "def plot_polymer(polymer_positions, sizes, radius):\n",
    "\n",
    "    fig = go.Figure()\n",
    "    u, v = np.mgrid[0:2 * np.pi:100j, 0:np.pi:50j]\n",
    "    x = radius * np.cos(u) * np.sin(v)\n",
    "    y = radius * np.sin(u) * np.sin(v)\n",
    "    z = radius * np.cos(v)\n",
    "\n",
    "    fig.add_trace(go.Mesh3d(\n",
    "        x=x.flatten(),\n",
    "        y=y.flatten(),\n",
    "        z=z.flatten(),\n",
    "        color='lightpink',\n",
    "        opacity=0.1,\n",
    "        alphahull=0\n",
    "    ))\n",
    "\n",
    "    start = 0\n",
    "    colors = ['red', 'green', 'blue']\n",
    "    c = -1\n",
    "    for s, size in enumerate(sizes):\n",
    "        positions = polymer_positions[start:start+size]\n",
    "        start += size\n",
    "        if s % 2 == 0:\n",
    "            c += 1\n",
    "        fig.add_trace(go.Scatter3d(\n",
    "            x=positions[:, 0],\n",
    "            y=positions[:, 1],\n",
    "            z=positions[:, 2],\n",
    "            mode='lines+markers',\n",
    "            marker=dict(size=4, color=colors[c]),\n",
    "            line=dict(color=colors[c], width=2)\n",
    "        ))\n",
    "\n",
    "    fig.update_layout(\n",
    "        scene=dict(\n",
    "            xaxis=dict(nticks=4, range=[-radius - 1, radius + 1]),\n",
    "            yaxis=dict(nticks=4, range=[-radius - 1, radius + 1]),\n",
    "            zaxis=dict(nticks=4, range=[-radius - 1, radius + 1]),\n",
    "            aspectmode='cube'\n",
    "        ),\n",
    "        width=1920,\n",
    "        height=1080,\n",
    "        margin=dict(r=20, l=10, b=10, t=10)\n",
    "    )\n",
    "\n",
    "    fig.show()"
   ],
   "id": "4196b90df00c05af"
  },
  {
   "metadata": {},
   "cell_type": "code",
   "outputs": [],
   "execution_count": null,
   "source": [
    "cwd = os.getcwd()\n",
    "data = os.path.join(os.path.dirname(cwd), 'data')\n",
    "snapshots_dir = os.path.join(os.path.dirname(cwd), 'snapshots')\n",
    "lattice_init_path = os.path.join(snapshots_dir, \"lattice_init.gsd\")\n",
    "\n",
    "simu_id = \"test\"\n",
    "simu_dir = os.path.join(data, simu_id)\n",
    "if os.path.exists(simu_dir):\n",
    "    shutil.rmtree(simu_dir)\n",
    "os.makedirs(simu_dir)\n",
    "os.makedirs(snapshots_dir, exist_ok=True)\n",
    "if os.path.exists(lattice_init_path):\n",
    "    os.remove(lattice_init_path)"
   ],
   "id": "70aa92452a5e953"
  },
  {
   "metadata": {},
   "cell_type": "code",
   "outputs": [],
   "execution_count": null,
   "source": [
    "n_poly = 6\n",
    "poly_sizes = [24, 24, 36, 36, 48, 48]\n",
    "poly_sizes_single = [24, 36, 48]\n",
    "nb_breaks = 8  # nb of DNA breaks\n",
    "timepoints = 500    # total number of timestep\n",
    "dt = 0.0001    # timestep\n",
    "radius = 12.0\n",
    "L = 3*radius\n",
    "calibration_time = 10\n",
    "min_distance_binding = 10.2  # required dist for homologous binding\n",
    "persistence_length = 10\n",
    "period = 1000   # periodic trigger\n",
    "mode = 'cpu'    # run on cpu or gpu\n",
    "rd_pos = False  # place the polymer randomly or not\n",
    "debug = False   # debug mode (useful on IDE)"
   ],
   "id": "d3ba5ed8d0212c11"
  },
  {
   "metadata": {},
   "cell_type": "code",
   "outputs": [],
   "execution_count": null,
   "source": [
    "particles_positions = []\n",
    "for size in poly_sizes:\n",
    "    positions = place_polymer_in_sphere(radius - 0.5, size)\n",
    "    particles_positions.extend(positions)\n",
    "particles_positions = np.array(particles_positions)"
   ],
   "id": "b622a42ab291f8e1"
  },
  {
   "metadata": {},
   "cell_type": "code",
   "outputs": [],
   "execution_count": null,
   "source": "plot_polymer(particles_positions, poly_sizes, radius)",
   "id": "dedfdc98ddeb7cb3"
  },
  {
   "metadata": {},
   "cell_type": "code",
   "outputs": [],
   "execution_count": null,
   "source": [
    "n_particles = len(particles_positions)\n",
    "particles_ids = list(range(n_particles))\n",
    "particles_types = ['dna', 'tel', 'dsb']\n",
    "particles_typeid = np.array([1 if i == 0 or i == s - 1 else 0 for s in poly_sizes for i in range(s)])\n",
    "\n",
    "homologous_pairs = []\n",
    "counter = 0\n",
    "for s, size in enumerate(poly_sizes_single):\n",
    "    for ll in range(size):\n",
    "        homologous_pairs.append([counter + ll, counter + ll + size])\n",
    "    counter += 2 * size\n",
    "homologous_pairs = np.array(homologous_pairs)\n",
    "\n",
    "n_bonds = n_particles - n_poly\n",
    "bonds_group = np.zeros((n_bonds, 2), dtype=int)\n",
    "bonds_types = [\"dna-telo\", \"dna-dna\", \"dna-dsb\", \"dsb-dsb\"]\n",
    "bonds_typeid = np.array(\n",
    "    [bonds_types.index(\"dna-telo\") if i == 0 or i == size - 2 else bonds_types.index(\"dna-dna\")\n",
    "     for size in poly_sizes for i in range(size - 1)])\n",
    "\n",
    "n_angles = n_particles - n_poly * 2\n",
    "angles_group = np.zeros((n_angles, 3), dtype=int)\n",
    "angles_types = [\"dna-dna-dna\", \"dna-dsb-dna\"]\n",
    "angles_typeid = np.array([angles_types.index(\"dna-dna-dna\") for size in poly_sizes for i in range(size - 2)])\n",
    "\n",
    "# Optimizing loops for bonds and angles\n",
    "start_indices = list(np.cumsum([0] + poly_sizes[:-1]))\n",
    "b_counter = 0\n",
    "a_counter = 0\n",
    "for x, start in enumerate(start_indices):\n",
    "    x_len = poly_sizes[x]\n",
    "    for b in range(x_len - 1):\n",
    "        bonds_group[b_counter] = [start + b, start + b + 1]\n",
    "        b_counter += 1\n",
    "    for a in range(x_len - 2):\n",
    "        angles_group[a_counter] = [start + a, start + a + 1, start + a + 2]\n",
    "        a_counter += 1\n",
    "\n",
    "breaks_ids = np.random.choice(particles_ids, nb_breaks, replace=False)\n",
    "particles_typeid[breaks_ids] = particles_types.index('dsb')\n",
    "homologous_breaks_pairs = homologous_pairs[np.where(np.isin(homologous_pairs, breaks_ids))[0]]\n"
   ],
   "id": "93dd2f6a4347162c"
  },
  {
   "metadata": {},
   "cell_type": "code",
   "outputs": [],
   "execution_count": null,
   "source": [
    "frame = gsd.hoomd.Frame()\n",
    "frame.particles.N = n_particles\n",
    "frame.particles.types = particles_types\n",
    "frame.particles.typeid = particles_typeid\n",
    "frame.particles.position = particles_positions\n",
    "\n",
    "frame.bonds.N = n_bonds\n",
    "frame.bonds.group = bonds_group\n",
    "frame.bonds.typeid = bonds_typeid\n",
    "frame.bonds.types = bonds_types\n",
    "\n",
    "frame.angles.N = n_angles\n",
    "frame.angles.group = angles_group\n",
    "frame.angles.typeid = angles_typeid\n",
    "frame.angles.types = angles_types\n",
    "\n",
    "frame.configuration.box = [L, L, L, 0, 0, 0]\n",
    "frame.configuration.dimensions = 3"
   ],
   "id": "43a08896a8ad2c5c"
  },
  {
   "metadata": {
    "ExecuteTime": {
     "end_time": "2024-07-11T19:51:30.857653Z",
     "start_time": "2024-07-11T19:51:30.767704Z"
    }
   },
   "cell_type": "code",
   "source": [
    "# The system state (aka a \"snapshot\") defined above is then used to initialize a HOOMD-blue simulation.\n",
    "try:\n",
    "    current_device = hoomd.device.GPU()\n",
    "    print(current_device.get_available_devices(), current_device.is_available())\n",
    "except:\n",
    "    current_device = hoomd.device.CPU()\n",
    "    print('No GPU found, using CPU')"
   ],
   "id": "6427688b19d3085f",
   "outputs": [
    {
     "name": "stdout",
     "output_type": "stream",
     "text": [
      "['[0]NVIDIA T1200 Laptop GPU  16 SM_7.5 @ 1.43 GHz, 3906 MiB DRAM'] True\n"
     ]
    }
   ],
   "execution_count": 2
  },
  {
   "metadata": {},
   "cell_type": "code",
   "outputs": [],
   "execution_count": null,
   "source": "",
   "id": "69b2b1ce7d86fd33"
  },
  {
   "metadata": {},
   "cell_type": "code",
   "outputs": [],
   "execution_count": null,
   "source": "",
   "id": "c49c5dc8d5108f0b"
  },
  {
   "metadata": {},
   "cell_type": "code",
   "outputs": [],
   "execution_count": null,
   "source": "",
   "id": "44884fd1e383869a"
  }
 ],
 "metadata": {
  "kernelspec": {
   "display_name": "Python 3",
   "language": "python",
   "name": "python3"
  },
  "language_info": {
   "codemirror_mode": {
    "name": "ipython",
    "version": 2
   },
   "file_extension": ".py",
   "mimetype": "text/x-python",
   "name": "python",
   "nbconvert_exporter": "python",
   "pygments_lexer": "ipython2",
   "version": "2.7.6"
  }
 },
 "nbformat": 4,
 "nbformat_minor": 5
}
